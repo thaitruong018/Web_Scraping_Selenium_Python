{
  "nbformat": 4,
  "nbformat_minor": 0,
  "metadata": {
    "colab": {
      "name": "VNExpress_Scraping_Selenium",
      "provenance": [],
      "collapsed_sections": [],
      "include_colab_link": true
    },
    "kernelspec": {
      "name": "python3",
      "display_name": "Python 3"
    },
    "language_info": {
      "name": "python"
    }
  },
  "cells": [
    {
      "cell_type": "markdown",
      "metadata": {
        "id": "view-in-github",
        "colab_type": "text"
      },
      "source": [
        "<a href=\"https://colab.research.google.com/github/thaitruong018/Web_Scraping_Selenium_Python/blob/main/VNExpress_Scraping_Selenium.ipynb\" target=\"_parent\"><img src=\"https://colab.research.google.com/assets/colab-badge.svg\" alt=\"Open In Colab\"/></a>"
      ]
    },
    {
      "cell_type": "markdown",
      "metadata": {
        "id": "IItp7sYWneBr"
      },
      "source": [
        "### Problem Statement\n",
        "- Build a Web Scraper to collect data about articles on [https://vnexpress.net/](https://vnexpress.net/).\n",
        "- Required information:\n",
        "  - Title\n",
        "  - Description\n",
        "  - Link to the Article\n",
        "  - Link to Thumbnail Image"
      ]
    },
    {
      "cell_type": "markdown",
      "metadata": {
        "id": "SXipXNe364Eo"
      },
      "source": [
        "![](https://i.imgur.com/sI6Slxi.png)"
      ]
    },
    {
      "cell_type": "markdown",
      "metadata": {
        "id": "BPfqM4Wdyf2F"
      },
      "source": [
        "### Set-up"
      ]
    },
    {
      "cell_type": "code",
      "metadata": {
        "colab": {
          "base_uri": "https://localhost:8080/"
        },
        "id": "ndY26EWEgJWE",
        "outputId": "bed94dcb-a67b-43a4-b84e-e7f7f388c411"
      },
      "source": [
        "# install selenium and other resources for crawling data\n",
        "!pip install selenium\n",
        "!apt-get update\n",
        "# install other resources for doing crawling\n",
        "!apt install chromium-chromedriver"
      ],
      "execution_count": null,
      "outputs": [
        {
          "output_type": "stream",
          "text": [
            "Collecting selenium\n",
            "  Downloading selenium-3.141.0-py2.py3-none-any.whl (904 kB)\n",
            "\u001b[K     |████████████████████████████████| 904 kB 4.0 MB/s \n",
            "\u001b[?25hRequirement already satisfied: urllib3 in /usr/local/lib/python3.7/dist-packages (from selenium) (1.24.3)\n",
            "Installing collected packages: selenium\n",
            "Successfully installed selenium-3.141.0\n",
            "Get:1 https://cloud.r-project.org/bin/linux/ubuntu bionic-cran40/ InRelease [3,626 B]\n",
            "Ign:2 https://developer.download.nvidia.com/compute/cuda/repos/ubuntu1804/x86_64  InRelease\n",
            "Get:3 http://security.ubuntu.com/ubuntu bionic-security InRelease [88.7 kB]\n",
            "Ign:4 https://developer.download.nvidia.com/compute/machine-learning/repos/ubuntu1804/x86_64  InRelease\n",
            "Get:5 https://developer.download.nvidia.com/compute/cuda/repos/ubuntu1804/x86_64  Release [697 B]\n",
            "Hit:6 https://developer.download.nvidia.com/compute/machine-learning/repos/ubuntu1804/x86_64  Release\n",
            "Get:7 https://developer.download.nvidia.com/compute/cuda/repos/ubuntu1804/x86_64  Release.gpg [836 B]\n",
            "Get:8 http://ppa.launchpad.net/c2d4u.team/c2d4u4.0+/ubuntu bionic InRelease [15.9 kB]\n",
            "Hit:10 http://archive.ubuntu.com/ubuntu bionic InRelease\n",
            "Get:11 http://archive.ubuntu.com/ubuntu bionic-updates InRelease [88.7 kB]\n",
            "Ign:12 https://developer.download.nvidia.com/compute/cuda/repos/ubuntu1804/x86_64  Packages\n",
            "Get:12 https://developer.download.nvidia.com/compute/cuda/repos/ubuntu1804/x86_64  Packages [679 kB]\n",
            "Hit:13 http://ppa.launchpad.net/cran/libgit2/ubuntu bionic InRelease\n",
            "Hit:14 http://ppa.launchpad.net/deadsnakes/ppa/ubuntu bionic InRelease\n",
            "Get:15 http://archive.ubuntu.com/ubuntu bionic-backports InRelease [74.6 kB]\n",
            "Get:16 http://security.ubuntu.com/ubuntu bionic-security/universe amd64 Packages [1,420 kB]\n",
            "Get:17 http://ppa.launchpad.net/graphics-drivers/ppa/ubuntu bionic InRelease [21.3 kB]\n",
            "Get:18 http://archive.ubuntu.com/ubuntu bionic-updates/restricted amd64 Packages [533 kB]\n",
            "Get:19 http://security.ubuntu.com/ubuntu bionic-security/main amd64 Packages [2,257 kB]\n",
            "Get:20 http://ppa.launchpad.net/c2d4u.team/c2d4u4.0+/ubuntu bionic/main Sources [1,785 kB]\n",
            "Get:21 http://security.ubuntu.com/ubuntu bionic-security/multiverse amd64 Packages [31.5 kB]\n",
            "Get:22 http://security.ubuntu.com/ubuntu bionic-security/restricted amd64 Packages [500 kB]\n",
            "Get:23 http://archive.ubuntu.com/ubuntu bionic-updates/main amd64 Packages [2,693 kB]\n",
            "Get:24 http://archive.ubuntu.com/ubuntu bionic-updates/multiverse amd64 Packages [38.7 kB]\n",
            "Get:25 http://archive.ubuntu.com/ubuntu bionic-updates/universe amd64 Packages [2,190 kB]\n",
            "Get:26 http://ppa.launchpad.net/c2d4u.team/c2d4u4.0+/ubuntu bionic/main amd64 Packages [913 kB]\n",
            "Get:27 http://ppa.launchpad.net/graphics-drivers/ppa/ubuntu bionic/main amd64 Packages [44.1 kB]\n",
            "Fetched 13.4 MB in 7s (1,858 kB/s)\n",
            "Reading package lists... Done\n",
            "Reading package lists... Done\n",
            "Building dependency tree       \n",
            "Reading state information... Done\n",
            "The following additional packages will be installed:\n",
            "  chromium-browser chromium-browser-l10n chromium-codecs-ffmpeg-extra\n",
            "Suggested packages:\n",
            "  webaccounts-chromium-extension unity-chromium-extension\n",
            "The following NEW packages will be installed:\n",
            "  chromium-browser chromium-browser-l10n chromium-chromedriver\n",
            "  chromium-codecs-ffmpeg-extra\n",
            "0 upgraded, 4 newly installed, 0 to remove and 80 not upgraded.\n",
            "Need to get 86.0 MB of archives.\n",
            "After this operation, 298 MB of additional disk space will be used.\n",
            "Get:1 http://archive.ubuntu.com/ubuntu bionic-updates/universe amd64 chromium-codecs-ffmpeg-extra amd64 91.0.4472.101-0ubuntu0.18.04.1 [1,124 kB]\n",
            "Get:2 http://archive.ubuntu.com/ubuntu bionic-updates/universe amd64 chromium-browser amd64 91.0.4472.101-0ubuntu0.18.04.1 [76.1 MB]\n",
            "Get:3 http://archive.ubuntu.com/ubuntu bionic-updates/universe amd64 chromium-browser-l10n all 91.0.4472.101-0ubuntu0.18.04.1 [3,937 kB]\n",
            "Get:4 http://archive.ubuntu.com/ubuntu bionic-updates/universe amd64 chromium-chromedriver amd64 91.0.4472.101-0ubuntu0.18.04.1 [4,837 kB]\n",
            "Fetched 86.0 MB in 9s (9,091 kB/s)\n",
            "Selecting previously unselected package chromium-codecs-ffmpeg-extra.\n",
            "(Reading database ... 160837 files and directories currently installed.)\n",
            "Preparing to unpack .../chromium-codecs-ffmpeg-extra_91.0.4472.101-0ubuntu0.18.04.1_amd64.deb ...\n",
            "Unpacking chromium-codecs-ffmpeg-extra (91.0.4472.101-0ubuntu0.18.04.1) ...\n",
            "Selecting previously unselected package chromium-browser.\n",
            "Preparing to unpack .../chromium-browser_91.0.4472.101-0ubuntu0.18.04.1_amd64.deb ...\n",
            "Unpacking chromium-browser (91.0.4472.101-0ubuntu0.18.04.1) ...\n",
            "Selecting previously unselected package chromium-browser-l10n.\n",
            "Preparing to unpack .../chromium-browser-l10n_91.0.4472.101-0ubuntu0.18.04.1_all.deb ...\n",
            "Unpacking chromium-browser-l10n (91.0.4472.101-0ubuntu0.18.04.1) ...\n",
            "Selecting previously unselected package chromium-chromedriver.\n",
            "Preparing to unpack .../chromium-chromedriver_91.0.4472.101-0ubuntu0.18.04.1_amd64.deb ...\n",
            "Unpacking chromium-chromedriver (91.0.4472.101-0ubuntu0.18.04.1) ...\n",
            "Setting up chromium-codecs-ffmpeg-extra (91.0.4472.101-0ubuntu0.18.04.1) ...\n",
            "Setting up chromium-browser (91.0.4472.101-0ubuntu0.18.04.1) ...\n",
            "update-alternatives: using /usr/bin/chromium-browser to provide /usr/bin/x-www-browser (x-www-browser) in auto mode\n",
            "update-alternatives: using /usr/bin/chromium-browser to provide /usr/bin/gnome-www-browser (gnome-www-browser) in auto mode\n",
            "Setting up chromium-chromedriver (91.0.4472.101-0ubuntu0.18.04.1) ...\n",
            "Setting up chromium-browser-l10n (91.0.4472.101-0ubuntu0.18.04.1) ...\n",
            "Processing triggers for man-db (2.8.3-2ubuntu0.1) ...\n",
            "Processing triggers for hicolor-icon-theme (0.17-2) ...\n",
            "Processing triggers for mime-support (3.60ubuntu1) ...\n",
            "Processing triggers for libc-bin (2.27-3ubuntu1.2) ...\n",
            "/sbin/ldconfig.real: /usr/local/lib/python3.7/dist-packages/ideep4py/lib/libmkldnn.so.0 is not a symbolic link\n",
            "\n"
          ],
          "name": "stdout"
        }
      ]
    },
    {
      "cell_type": "code",
      "metadata": {
        "id": "HEE_iw017U4G"
      },
      "source": [
        "# import library\n",
        "from selenium import webdriver\n",
        "# set driver\n",
        "DRIVER = None"
      ],
      "execution_count": null,
      "outputs": []
    },
    {
      "cell_type": "code",
      "metadata": {
        "id": "6pb4oeEF86e9"
      },
      "source": [
        "# create two function\n",
        "# initialize driver\n",
        "def initialize_driver():\n",
        "    global DRIVER\n",
        "    if DRIVER is None:\n",
        "        print('Initiating driver...')\n",
        "        chrome_options = webdriver.ChromeOptions()\n",
        "        chrome_options.add_argument('-headless') \n",
        "        chrome_options.add_argument('-no-sandbox') \n",
        "        DRIVER = webdriver.Chrome('chromedriver',options=chrome_options)  # Create the new chrome browser with specific options\n",
        "        print('Finished!')\n",
        "# close driver\n",
        "def close_driver():\n",
        "    global DRIVER\n",
        "    if not DRIVER is None:\n",
        "        DRIVER.quit()\n",
        "\n",
        "    DRIVER = None\n"
      ],
      "execution_count": null,
      "outputs": []
    },
    {
      "cell_type": "code",
      "metadata": {
        "id": "ZSBYvCl_fjV-"
      },
      "source": [
        "close_driver()"
      ],
      "execution_count": null,
      "outputs": []
    },
    {
      "cell_type": "code",
      "metadata": {
        "id": "dNyzuQeU1rMG",
        "colab": {
          "base_uri": "https://localhost:8080/"
        },
        "outputId": "639b5cbe-0eaa-4d6a-e6eb-bf78d1b67626"
      },
      "source": [
        "initialize_driver()"
      ],
      "execution_count": null,
      "outputs": [
        {
          "output_type": "stream",
          "text": [
            "Initiating driver...\n",
            "Finished!\n"
          ],
          "name": "stdout"
        }
      ]
    },
    {
      "cell_type": "code",
      "metadata": {
        "id": "Qf1MDhJdVmr1"
      },
      "source": [
        "DRIVER.get('https://vnexpress.net/')"
      ],
      "execution_count": null,
      "outputs": []
    },
    {
      "cell_type": "code",
      "metadata": {
        "colab": {
          "base_uri": "https://localhost:8080/",
          "height": 35
        },
        "id": "-2E1yuuqbqxI",
        "outputId": "db0b1461-f699-4d44-9f07-6b0b56fa6aba"
      },
      "source": [
        "DRIVER.current_url"
      ],
      "execution_count": null,
      "outputs": [
        {
          "output_type": "execute_result",
          "data": {
            "application/vnd.google.colaboratory.intrinsic+json": {
              "type": "string"
            },
            "text/plain": [
              "'https://vnexpress.net/'"
            ]
          },
          "metadata": {
            "tags": []
          },
          "execution_count": 9
        }
      ]
    },
    {
      "cell_type": "markdown",
      "metadata": {
        "id": "G9P4qUVc1X0m"
      },
      "source": [
        "### Scraping"
      ]
    },
    {
      "cell_type": "code",
      "metadata": {
        "colab": {
          "base_uri": "https://localhost:8080/"
        },
        "id": "FvT0NHGoj6MO",
        "outputId": "d556db4d-9d35-4659-e1fa-6614c98e7d69"
      },
      "source": [
        "# count how many item news\n",
        "all_news_elements = DRIVER.find_elements_by_class_name('item-news')\n",
        "len(all_news_elements)"
      ],
      "execution_count": null,
      "outputs": [
        {
          "output_type": "execute_result",
          "data": {
            "text/plain": [
              "177"
            ]
          },
          "metadata": {
            "tags": []
          },
          "execution_count": 12
        }
      ]
    },
    {
      "cell_type": "code",
      "metadata": {
        "colab": {
          "base_uri": "https://localhost:8080/"
        },
        "id": "EYPKegCSlhE7",
        "outputId": "1b759066-bbd1-4131-8517-d5014b049cf4"
      },
      "source": [
        "# overview of a news\n",
        "print(all_news_elements[4].get_attribute('outerHTML'))"
      ],
      "execution_count": null,
      "outputs": [
        {
          "output_type": "stream",
          "text": [
            "<article class=\"item-news item-news-common \" data-id=\"4329020\">\n",
            "<h3 class=\"title-news\">\n",
            "<a href=\"https://vnexpress.net/de-nghi-di-doi-hai-khu-dan-cu-trong-quy-hoach-song-hong-4329020.html\" title=\"Đề nghị di dời hai khu dân cư trong quy hoạch sông Hồng\" data-medium=\"Item-6\" data-thumb=\"1\" data-itm-source=\"#vn_source=Home&amp;vn_campaign=ThuongVien&amp;vn_medium=Item-6&amp;vn_term=Desktop&amp;vn_thumb=1\" data-itm-added=\"1\">Đề nghị di dời hai khu dân cư trong quy hoạch sông Hồng</a>\n",
            "</h3>\n",
            "<div class=\"thumb-art\">\n",
            "<a href=\"https://vnexpress.net/de-nghi-di-doi-hai-khu-dan-cu-trong-quy-hoach-song-hong-4329020.html\" class=\"thumb thumb-5x3\" title=\"Đề nghị di dời hai khu dân cư trong quy hoạch sông Hồng\" data-medium=\"Item-6\" data-thumb=\"1\" data-itm-source=\"#vn_source=Home&amp;vn_campaign=ThuongVien&amp;vn_medium=Item-6&amp;vn_term=Desktop&amp;vn_thumb=1\" data-itm-added=\"1\">\n",
            "<picture>\n",
            "<!--[if IE 9]><video style=\"display: none;\"><![endif]-->\n",
            "<source data-srcset=\"https://vcdn1-vnexpress.vnecdn.net/2021/07/22/DJI041877421626955817-16269618-3079-7366-1626961807.jpg?w=220&amp;h=132&amp;q=100&amp;dpr=1&amp;fit=crop&amp;s=-bExVdkiuh75gSmhaorcXg 1x, https://vcdn1-vnexpress.vnecdn.net/2021/07/22/DJI041877421626955817-16269618-3079-7366-1626961807.jpg?w=220&amp;h=132&amp;q=100&amp;dpr=2&amp;fit=crop&amp;s=8Vi88Mh6MstKZMV9TQtpww 2x\" srcset=\"https://vcdn1-vnexpress.vnecdn.net/2021/07/22/DJI041877421626955817-16269618-3079-7366-1626961807.jpg?w=220&amp;h=132&amp;q=100&amp;dpr=1&amp;fit=crop&amp;s=-bExVdkiuh75gSmhaorcXg 1x, https://vcdn1-vnexpress.vnecdn.net/2021/07/22/DJI041877421626955817-16269618-3079-7366-1626961807.jpg?w=220&amp;h=132&amp;q=100&amp;dpr=2&amp;fit=crop&amp;s=8Vi88Mh6MstKZMV9TQtpww 2x\">\n",
            "<!--[if IE 9]></video><![endif]-->\n",
            "<img itemprop=\"contentUrl\" style=\"transform: translateX(-50%); left: 50%;\" loading=\"lazy\" intrinsicsize=\"220x132\" alt=\"Đề nghị di dời hai khu dân cư trong quy hoạch sông Hồng\" class=\"lazy lazied\" src=\"https://vcdn1-vnexpress.vnecdn.net/2021/07/22/DJI041877421626955817-16269618-3079-7366-1626961807.jpg?w=220&amp;h=132&amp;q=100&amp;dpr=1&amp;fit=crop&amp;s=-bExVdkiuh75gSmhaorcXg\" data-src=\"https://vcdn1-vnexpress.vnecdn.net/2021/07/22/DJI041877421626955817-16269618-3079-7366-1626961807.jpg?w=220&amp;h=132&amp;q=100&amp;dpr=1&amp;fit=crop&amp;s=-bExVdkiuh75gSmhaorcXg\" data-ll-status=\"loaded\">\n",
            "</picture> </a>\n",
            "</div>\n",
            "<p class=\"description\">\n",
            "<a href=\"https://vnexpress.net/de-nghi-di-doi-hai-khu-dan-cu-trong-quy-hoach-song-hong-4329020.html\" title=\"Đề nghị di dời hai khu dân cư trong quy hoạch sông Hồng\" data-medium=\"Item-6\" data-thumb=\"1\" data-itm-source=\"#vn_source=Home&amp;vn_campaign=ThuongVien&amp;vn_medium=Item-6&amp;vn_term=Desktop&amp;vn_thumb=1\" data-itm-added=\"1\"><span class=\"location-stamp\">Hà Nội</span>Bộ Nông nghiệp và Phát triển Nông thôn cho rằng khu dân cư Bắc Cầu và Bồ Đề nằm sát bờ sông Hồng dễ bị sạt lở, gây mất an toàn khi có lũ nên đề nghị di dời.</a>\n",
            "<span class=\"meta-news\">\n",
            "<a class=\"count_cmt\" href=\"https://vnexpress.net/de-nghi-di-doi-hai-khu-dan-cu-trong-quy-hoach-song-hong-4329020.html#box_comment_vne\" style=\"white-space: nowrap; display: none;\">\n",
            "<svg class=\"ic ic-comment\"><use xlink:href=\"#Comment-Reg\"></use></svg>\n",
            "<span class=\"font_icon widget-comment-4329020-1\"></span>\n",
            "</a>\n",
            "</span>\n",
            "</p>\n",
            "</article>\n"
          ],
          "name": "stdout"
        }
      ]
    },
    {
      "cell_type": "code",
      "metadata": {
        "id": "0q8WZCp7lx9L"
      },
      "source": [
        "# create functions\n",
        "# create a func to get title, desc, and link\n",
        "def get_title_desc_link(article_element):\n",
        "  link = \"No links found\"\n",
        "  title = \"No titles found\"\n",
        "  desc = \"No descs found\"\n",
        "\n",
        "  try:\n",
        "    # Locate the Class contents link, title, and desc\n",
        "    title_news = article_element.find_element_by_class_name(\"title-news\")\n",
        "    # link\n",
        "    link = title_news.find_element_by_tag_name(\"a\").get_attribute(\"href\")\n",
        "    #title\n",
        "    title = title_news.find_element_by_tag_name(\"a\").get_attribute(\"title\")\n",
        "    # description\n",
        "    desc_class = article_element.find_element_by_class_name(\"description\")\n",
        "    desc= desc_class.find_element_by_tag_name(\"a\").text\n",
        "  except Exception as e:\n",
        "    pass\n",
        "  return link, title, desc\n",
        "\n",
        "# create a func to get thumb art\n",
        "def get_thumb_art(article_element):\n",
        "  src = \"No src found\"\n",
        "  try:\n",
        "    # Xac dinh vi tri class thumb-art\n",
        "    thubm_art = article_element.find_element_by_class_name(\"thumb-art\")\n",
        "    # Src\n",
        "    src = thubm_art.find_element_by_tag_name(\"img\").get_attribute(\"src\")\n",
        "  except Exception as e:\n",
        "    pass\n",
        "  return src\n"
      ],
      "execution_count": null,
      "outputs": []
    },
    {
      "cell_type": "code",
      "metadata": {
        "id": "EaVrs_b-0McT"
      },
      "source": [
        "# combine above funcs into a main func\n",
        "def scrape_vnexpress(DRIVER):\n",
        "    '''\n",
        "    Return a list of items, each item is another list containing 4 items: \n",
        "    - Article link\n",
        "    - Title\n",
        "    - Description\n",
        "    - Thumbnail link (if possible)\n",
        "    '''\n",
        "    all_news_elements = DRIVER.find_elements_by_class_name('item-news')   \n",
        "\n",
        "    results = []\n",
        "    \n",
        "    # scraping\n",
        "    for article in all_news_elements:\n",
        "\n",
        "      link, title, desc = get_title_desc_link(article)\n",
        "      src = get_thumb_art(article)\n",
        "\n",
        "      temp = [link, title, desc, src]\n",
        "      results.append(temp)\n",
        "    \n",
        "    return results\n",
        "\n",
        "        "
      ],
      "execution_count": null,
      "outputs": []
    },
    {
      "cell_type": "code",
      "metadata": {
        "id": "NfxXePmACXMe"
      },
      "source": [
        "# call the result\n",
        "results = scrape_vnexpress(DRIVER)"
      ],
      "execution_count": null,
      "outputs": []
    },
    {
      "cell_type": "code",
      "metadata": {
        "colab": {
          "base_uri": "https://localhost:8080/"
        },
        "id": "rOdsomtfHsgJ",
        "outputId": "fcbc1d42-41ef-4378-8b1d-1842bac6da71"
      },
      "source": [
        "# the results of the first 5 item news\n",
        "results[:5]"
      ],
      "execution_count": null,
      "outputs": [
        {
          "output_type": "execute_result",
          "data": {
            "text/plain": [
              "[['https://vnexpress.net/malaysia-dat-cuoc-vao-chien-luoc-xet-nghiem-ncov-tai-nha-4328587.html',\n",
              "  'Malaysia đặt cược vào chiến lược xét nghiệm nCoV tại nhà',\n",
              "  'Giữa lúc số ca nhiễm mới hàng ngày lên mức kỷ lục 11.000, Malaysia tuần trước phê duyệt có điều kiện hai loại kit tự xét nghiệm nCoV tại nhà.',\n",
              "  'https://vcdn1-vnexpress.vnecdn.net/2021/07/22/malays-1626951151-4095-1626951262.jpg?w=120&h=72&q=100&dpr=2&fit=crop&s=8plCgmFwz3xnul4M_gBf3Q'],\n",
              " ['https://vnexpress.net/xin-lam-nguoi-xa-la-4329072.html',\n",
              "  'Xin làm người xa lạ',\n",
              "  'Khẩu trang có thay thế việc duy trì khoảng cách vật lý hai mét với người bên cạnh không? Không!',\n",
              "  'https://vcdn1-vnexpress.vnecdn.net/2019/01/28/nguyendanganhthipng-1548661469.png?w=100&h=100&q=100&dpr=1&fit=crop&s=brknxOD9EQCcD90bjLXBfg'],\n",
              " ['https://vnexpress.net/benh-vien-da-chien-da-nang-hoan-thanh-sau-ba-ngay-thi-cong-4329076.html',\n",
              "  'Bệnh viện dã chiến Đà Nẵng hoàn thành sau ba ngày thi công',\n",
              "  'Sau ba ngày thi công suốt ngày đêm, bệnh viện dã chiến trưng dụng từ khu ký túc xá, quy mô 350 giường, đã sẵn sàng đi vào hoạt động.',\n",
              "  'https://vcdn1-vnexpress.vnecdn.net/2021/07/22/dji-0239-1626964935-1626969632.jpg?w=120&h=72&q=100&dpr=2&fit=crop&s=Ae97gHsl8Rkvmxzbie8-zQ'],\n",
              " ['https://video.vnexpress.net/tin-tuc/thoi-su/duong-noi-cao-toc-tp-hcm-long-thanh-sap-hoan-thanh-4309146.html',\n",
              "  'Đường nối cao tốc TP HCM - Long Thành sắp hoàn thành',\n",
              "  'ĐỒNG NAIĐường 319 dự kiến đưa vào khai thác cuối tháng 7 sẽ rút ngắn thời gian vận chuyển hàng hóa từ khu công nghiệp Nhơn Trạch về TP HCM và ngược lại.',\n",
              "  'https://vcdn1-vnexpress.vnecdn.net/2021/07/14/TEXT108000412806Still015-16262-5703-7870-1626224244.jpg?w=120&h=72&q=100&dpr=2&fit=crop&s=G7ZuqCyrM5fuKuKl6ezXmA'],\n",
              " ['https://vnexpress.net/nhung-dieu-can-biet-khi-tiem-vaccine-sinopharm-4326792.html',\n",
              "  'Những điều cần biết khi tiêm vaccine Sinopharm',\n",
              "  'Các phản ứng sau tiêm vaccine Sinopharm như đau tại chỗ tiêm, đau đầu, sốt... đều nhẹ hoặc trung bình; người đang mắc bệnh cấp tính, mạn tính chưa kiểm soát được không nên tiêm.',\n",
              "  'https://vcdn1-suckhoe.vnecdn.net/2021/07/20/dieu-can-biet-khi-tiem-vaccine-3714-9234-1626771218.jpg?w=220&h=132&q=100&dpr=1&fit=crop&s=4T2CodTg-KdFZejo2Y6APQ']]"
            ]
          },
          "metadata": {
            "tags": []
          },
          "execution_count": 42
        }
      ]
    },
    {
      "cell_type": "markdown",
      "metadata": {
        "id": "tPYwW6CAHoC1"
      },
      "source": [
        "# Use pandas to save results as csv file"
      ]
    },
    {
      "cell_type": "code",
      "metadata": {
        "id": "iOYLYo8cHzpl"
      },
      "source": [
        "# import library\n",
        "import pandas as pd"
      ],
      "execution_count": null,
      "outputs": []
    },
    {
      "cell_type": "code",
      "metadata": {
        "id": "2Tlx1Az7H3Ex"
      },
      "source": [
        "# create a dataframe contains the result\n",
        "df = pd.DataFrame(results,columns=['link','title','description','thumbnail_link'])"
      ],
      "execution_count": null,
      "outputs": []
    },
    {
      "cell_type": "code",
      "metadata": {
        "colab": {
          "base_uri": "https://localhost:8080/",
          "height": 362
        },
        "id": "eriXoTeBIA7m",
        "outputId": "387987ec-a580-4240-fb10-e0835b240408"
      },
      "source": [
        "# first 5 rows of the file\n",
        "df.head()"
      ],
      "execution_count": null,
      "outputs": [
        {
          "output_type": "execute_result",
          "data": {
            "text/html": [
              "<div>\n",
              "<style scoped>\n",
              "    .dataframe tbody tr th:only-of-type {\n",
              "        vertical-align: middle;\n",
              "    }\n",
              "\n",
              "    .dataframe tbody tr th {\n",
              "        vertical-align: top;\n",
              "    }\n",
              "\n",
              "    .dataframe thead th {\n",
              "        text-align: right;\n",
              "    }\n",
              "</style>\n",
              "<table border=\"1\" class=\"dataframe\">\n",
              "  <thead>\n",
              "    <tr style=\"text-align: right;\">\n",
              "      <th></th>\n",
              "      <th>link</th>\n",
              "      <th>title</th>\n",
              "      <th>description</th>\n",
              "      <th>thumbnail_link</th>\n",
              "    </tr>\n",
              "  </thead>\n",
              "  <tbody>\n",
              "    <tr>\n",
              "      <th>0</th>\n",
              "      <td>https://vnexpress.net/malaysia-dat-cuoc-vao-ch...</td>\n",
              "      <td>Malaysia đặt cược vào chiến lược xét nghiệm nC...</td>\n",
              "      <td>Giữa lúc số ca nhiễm mới hàng ngày lên mức kỷ ...</td>\n",
              "      <td>https://vcdn1-vnexpress.vnecdn.net/2021/07/22/...</td>\n",
              "    </tr>\n",
              "    <tr>\n",
              "      <th>1</th>\n",
              "      <td>https://vnexpress.net/xin-lam-nguoi-xa-la-4329...</td>\n",
              "      <td>Xin làm người xa lạ</td>\n",
              "      <td>Khẩu trang có thay thế việc duy trì khoảng các...</td>\n",
              "      <td>https://vcdn1-vnexpress.vnecdn.net/2019/01/28/...</td>\n",
              "    </tr>\n",
              "    <tr>\n",
              "      <th>2</th>\n",
              "      <td>https://vnexpress.net/benh-vien-da-chien-da-na...</td>\n",
              "      <td>Bệnh viện dã chiến Đà Nẵng hoàn thành sau ba n...</td>\n",
              "      <td>Sau ba ngày thi công suốt ngày đêm, bệnh viện ...</td>\n",
              "      <td>https://vcdn1-vnexpress.vnecdn.net/2021/07/22/...</td>\n",
              "    </tr>\n",
              "    <tr>\n",
              "      <th>3</th>\n",
              "      <td>https://video.vnexpress.net/tin-tuc/thoi-su/du...</td>\n",
              "      <td>Đường nối cao tốc TP HCM - Long Thành sắp hoàn...</td>\n",
              "      <td>ĐỒNG NAIĐường 319 dự kiến đưa vào khai thác c...</td>\n",
              "      <td>https://vcdn1-vnexpress.vnecdn.net/2021/07/14/...</td>\n",
              "    </tr>\n",
              "    <tr>\n",
              "      <th>4</th>\n",
              "      <td>https://vnexpress.net/nhung-dieu-can-biet-khi-...</td>\n",
              "      <td>Những điều cần biết khi tiêm vaccine Sinopharm</td>\n",
              "      <td>Các phản ứng sau tiêm vaccine Sinopharm như đa...</td>\n",
              "      <td>https://vcdn1-suckhoe.vnecdn.net/2021/07/20/di...</td>\n",
              "    </tr>\n",
              "  </tbody>\n",
              "</table>\n",
              "</div>"
            ],
            "text/plain": [
              "                                                link  ...                                     thumbnail_link\n",
              "0  https://vnexpress.net/malaysia-dat-cuoc-vao-ch...  ...  https://vcdn1-vnexpress.vnecdn.net/2021/07/22/...\n",
              "1  https://vnexpress.net/xin-lam-nguoi-xa-la-4329...  ...  https://vcdn1-vnexpress.vnecdn.net/2019/01/28/...\n",
              "2  https://vnexpress.net/benh-vien-da-chien-da-na...  ...  https://vcdn1-vnexpress.vnecdn.net/2021/07/22/...\n",
              "3  https://video.vnexpress.net/tin-tuc/thoi-su/du...  ...  https://vcdn1-vnexpress.vnecdn.net/2021/07/14/...\n",
              "4  https://vnexpress.net/nhung-dieu-can-biet-khi-...  ...  https://vcdn1-suckhoe.vnecdn.net/2021/07/20/di...\n",
              "\n",
              "[5 rows x 4 columns]"
            ]
          },
          "metadata": {
            "tags": []
          },
          "execution_count": 50
        }
      ]
    },
    {
      "cell_type": "code",
      "metadata": {
        "id": "zKEqOIpqIDd_"
      },
      "source": [
        "# save to csv file\n",
        "df.to_csv('vnexpress_scraped1.csv',index=False, encoding=\"utf-8\")"
      ],
      "execution_count": null,
      "outputs": []
    }
  ]
}